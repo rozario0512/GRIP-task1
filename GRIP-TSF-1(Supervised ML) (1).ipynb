{
 "cells": [
  {
   "cell_type": "markdown",
   "metadata": {
    "id": "rg7uiip4BA7y"
   },
   "source": [
    "# **The Sparks Foundation || GRIP May-21**\n",
    "---\n",
    "\n",
    "\n",
    "\n",
    "> >   # **Data Science and Business Analytics**\n",
    "\n",
    "\n",
    "\n",
    "---\n",
    "\n",
    "\n",
    "\n",
    "> **TASK 1** - Prediction using Supervised ML\n",
    "\n",
    "\n",
    "> **Author** : Rozario naveen britto.J\n",
    "\n",
    "---\n",
    "\n",
    "\n",
    "**To Predict the percentage of marks of the students based on the number of hours they studied & find the predicted score if a student studies for 9.25 hrs/day.**\n",
    "\n",
    "\n",
    "\n",
    "---\n",
    "\n",
    "\n",
    "\n",
    "\n",
    "**Steps involved**\n",
    "\n",
    "1.   Importing Libraries.\n",
    "2.   Reading the Dataset.\n",
    "3.   Visualizing the Given Dataset.\n",
    "4.   Splitting the Dataset into train and test splits.\n",
    "5.   Importing the supervised ML model called the Linear Regression.\n",
    "6.   Finding coefficient, intercept values to get the line equation.\n",
    "7.   Draw a Regression line for the dataset.\n",
    "8.   Analysing how the dataset is predicted.\n",
    "9.   Evaluate the model.\n",
    "\n",
    "\n",
    "\n",
    "\n",
    "---\n"
   ]
  },
  {
   "cell_type": "markdown",
   "metadata": {
    "id": "ZhIXBpLlFMqG"
   },
   "source": [
    "# **Importing Libraries**"
   ]
  },
  {
   "cell_type": "code",
   "execution_count": null,
   "metadata": {
    "id": "CUYB7YdDA_QS"
   },
   "outputs": [],
   "source": [
    "import pandas as ts1\n",
    "\n",
    "#To work with numerical operations\n",
    "import numpy as np\n",
    "\n",
    "#To visualize the data\n",
    "import seaborn as sb\n",
    "import matplotlib.pyplot as plt\n",
    "%matplotlib inline"
   ]
  },
  {
   "cell_type": "markdown",
   "metadata": {
    "id": "rv1Fja13EN11"
   },
   "source": [
    "# **Reading the Dataset**"
   ]
  },
  {
   "cell_type": "code",
   "execution_count": null,
   "metadata": {
    "colab": {
     "base_uri": "https://localhost:8080/"
    },
    "executionInfo": {
     "elapsed": 1938,
     "status": "ok",
     "timestamp": 1617794723157,
     "user": {
      "displayName": "JONES ARPUTHARAJ",
      "photoUrl": "https://lh3.googleusercontent.com/a-/AOh14Gg8YRWZna9HKlPzzHWkmTbsw_nlK0nBlsLrhYTzPg=s64",
      "userId": "16016493495905896081"
     },
     "user_tz": -330
    },
    "id": "Y30ZTc9nA_Qg",
    "outputId": "9b6c100d-3950-4a67-fe46-24a2cae50761"
   },
   "outputs": [
    {
     "name": "stdout",
     "output_type": "stream",
     "text": [
      "data is imported successfully\n"
     ]
    }
   ],
   "source": [
    "# Reading data from remote link\n",
    "url = \"http://bit.ly/w-data\"\n",
    "df = ts1 .read_csv(url)\n",
    "print ('data is imported successfully')"
   ]
  },
  {
   "cell_type": "code",
   "execution_count": null,
   "metadata": {
    "colab": {
     "base_uri": "https://localhost:8080/"
    },
    "executionInfo": {
     "elapsed": 3343,
     "status": "ok",
     "timestamp": 1617794724583,
     "user": {
      "displayName": "JONES ARPUTHARAJ",
      "photoUrl": "https://lh3.googleusercontent.com/a-/AOh14Gg8YRWZna9HKlPzzHWkmTbsw_nlK0nBlsLrhYTzPg=s64",
      "userId": "16016493495905896081"
     },
     "user_tz": -330
    },
    "id": "uA6l7xImA_Qu",
    "outputId": "4f6e9b36-407e-468b-acab-36d8ae94bc99"
   },
   "outputs": [
    {
     "name": "stdout",
     "output_type": "stream",
     "text": [
      "<class 'pandas.core.frame.DataFrame'>\n",
      "RangeIndex: 25 entries, 0 to 24\n",
      "Data columns (total 2 columns):\n",
      " #   Column  Non-Null Count  Dtype  \n",
      "---  ------  --------------  -----  \n",
      " 0   Hours   25 non-null     float64\n",
      " 1   Scores  25 non-null     int64  \n",
      "dtypes: float64(1), int64(1)\n",
      "memory usage: 528.0 bytes\n"
     ]
    }
   ],
   "source": [
    "#To check variables data type\n",
    "df.info()"
   ]
  },
  {
   "cell_type": "code",
   "execution_count": null,
   "metadata": {
    "colab": {
     "base_uri": "https://localhost:8080/"
    },
    "executionInfo": {
     "elapsed": 3368,
     "status": "ok",
     "timestamp": 1617794724626,
     "user": {
      "displayName": "JONES ARPUTHARAJ",
      "photoUrl": "https://lh3.googleusercontent.com/a-/AOh14Gg8YRWZna9HKlPzzHWkmTbsw_nlK0nBlsLrhYTzPg=s64",
      "userId": "16016493495905896081"
     },
     "user_tz": -330
    },
    "id": "3qQDbbv-A_Qx",
    "outputId": "6732b9f7-5495-405f-ffce-a045082ed81f"
   },
   "outputs": [
    {
     "data": {
      "text/plain": [
       "Hours     0\n",
       "Scores    0\n",
       "dtype: int64"
      ]
     },
     "execution_count": 22,
     "metadata": {
      "tags": []
     },
     "output_type": "execute_result"
    }
   ],
   "source": [
    "# checking null(missing) values\n",
    "df.isnull().sum()"
   ]
  },
  {
   "cell_type": "code",
   "execution_count": null,
   "metadata": {
    "colab": {
     "base_uri": "https://localhost:8080/",
     "height": 297
    },
    "executionInfo": {
     "elapsed": 3320,
     "status": "ok",
     "timestamp": 1617794724629,
     "user": {
      "displayName": "JONES ARPUTHARAJ",
      "photoUrl": "https://lh3.googleusercontent.com/a-/AOh14Gg8YRWZna9HKlPzzHWkmTbsw_nlK0nBlsLrhYTzPg=s64",
      "userId": "16016493495905896081"
     },
     "user_tz": -330
    },
    "id": "rqOYyoFUA_Q0",
    "outputId": "7ed4029c-0a6d-454e-9c60-5d1160b14635"
   },
   "outputs": [
    {
     "data": {
      "text/html": [
       "<div>\n",
       "<style scoped>\n",
       "    .dataframe tbody tr th:only-of-type {\n",
       "        vertical-align: middle;\n",
       "    }\n",
       "\n",
       "    .dataframe tbody tr th {\n",
       "        vertical-align: top;\n",
       "    }\n",
       "\n",
       "    .dataframe thead th {\n",
       "        text-align: right;\n",
       "    }\n",
       "</style>\n",
       "<table border=\"1\" class=\"dataframe\">\n",
       "  <thead>\n",
       "    <tr style=\"text-align: right;\">\n",
       "      <th></th>\n",
       "      <th>Hours</th>\n",
       "      <th>Scores</th>\n",
       "    </tr>\n",
       "  </thead>\n",
       "  <tbody>\n",
       "    <tr>\n",
       "      <th>count</th>\n",
       "      <td>25.000000</td>\n",
       "      <td>25.000000</td>\n",
       "    </tr>\n",
       "    <tr>\n",
       "      <th>mean</th>\n",
       "      <td>5.012000</td>\n",
       "      <td>51.480000</td>\n",
       "    </tr>\n",
       "    <tr>\n",
       "      <th>std</th>\n",
       "      <td>2.525094</td>\n",
       "      <td>25.286887</td>\n",
       "    </tr>\n",
       "    <tr>\n",
       "      <th>min</th>\n",
       "      <td>1.100000</td>\n",
       "      <td>17.000000</td>\n",
       "    </tr>\n",
       "    <tr>\n",
       "      <th>25%</th>\n",
       "      <td>2.700000</td>\n",
       "      <td>30.000000</td>\n",
       "    </tr>\n",
       "    <tr>\n",
       "      <th>50%</th>\n",
       "      <td>4.800000</td>\n",
       "      <td>47.000000</td>\n",
       "    </tr>\n",
       "    <tr>\n",
       "      <th>75%</th>\n",
       "      <td>7.400000</td>\n",
       "      <td>75.000000</td>\n",
       "    </tr>\n",
       "    <tr>\n",
       "      <th>max</th>\n",
       "      <td>9.200000</td>\n",
       "      <td>95.000000</td>\n",
       "    </tr>\n",
       "  </tbody>\n",
       "</table>\n",
       "</div>"
      ],
      "text/plain": [
       "           Hours     Scores\n",
       "count  25.000000  25.000000\n",
       "mean    5.012000  51.480000\n",
       "std     2.525094  25.286887\n",
       "min     1.100000  17.000000\n",
       "25%     2.700000  30.000000\n",
       "50%     4.800000  47.000000\n",
       "75%     7.400000  75.000000\n",
       "max     9.200000  95.000000"
      ]
     },
     "execution_count": 23,
     "metadata": {
      "tags": []
     },
     "output_type": "execute_result"
    }
   ],
   "source": [
    "# summary of numerical variables\n",
    "df.describe()"
   ]
  },
  {
   "cell_type": "code",
   "execution_count": null,
   "metadata": {
    "colab": {
     "base_uri": "https://localhost:8080/",
     "height": 111
    },
    "executionInfo": {
     "elapsed": 3285,
     "status": "ok",
     "timestamp": 1617794724633,
     "user": {
      "displayName": "JONES ARPUTHARAJ",
      "photoUrl": "https://lh3.googleusercontent.com/a-/AOh14Gg8YRWZna9HKlPzzHWkmTbsw_nlK0nBlsLrhYTzPg=s64",
      "userId": "16016493495905896081"
     },
     "user_tz": -330
    },
    "id": "7yfliSewA_Q3",
    "outputId": "4ff4a24c-0e1b-4e15-c476-796d05c6cf35"
   },
   "outputs": [
    {
     "data": {
      "text/html": [
       "<div>\n",
       "<style scoped>\n",
       "    .dataframe tbody tr th:only-of-type {\n",
       "        vertical-align: middle;\n",
       "    }\n",
       "\n",
       "    .dataframe tbody tr th {\n",
       "        vertical-align: top;\n",
       "    }\n",
       "\n",
       "    .dataframe thead th {\n",
       "        text-align: right;\n",
       "    }\n",
       "</style>\n",
       "<table border=\"1\" class=\"dataframe\">\n",
       "  <thead>\n",
       "    <tr style=\"text-align: right;\">\n",
       "      <th></th>\n",
       "      <th>Hours</th>\n",
       "      <th>Scores</th>\n",
       "    </tr>\n",
       "  </thead>\n",
       "  <tbody>\n",
       "    <tr>\n",
       "      <th>Hours</th>\n",
       "      <td>1.000000</td>\n",
       "      <td>0.976191</td>\n",
       "    </tr>\n",
       "    <tr>\n",
       "      <th>Scores</th>\n",
       "      <td>0.976191</td>\n",
       "      <td>1.000000</td>\n",
       "    </tr>\n",
       "  </tbody>\n",
       "</table>\n",
       "</div>"
      ],
      "text/plain": [
       "           Hours    Scores\n",
       "Hours   1.000000  0.976191\n",
       "Scores  0.976191  1.000000"
      ]
     },
     "execution_count": 24,
     "metadata": {
      "tags": []
     },
     "output_type": "execute_result"
    }
   ],
   "source": [
    "#Relationship between independent variables\n",
    "df.corr()"
   ]
  },
  {
   "cell_type": "markdown",
   "metadata": {
    "id": "GCUeJq7pEgwE"
   },
   "source": [
    "# **Visualizing the given datas in dataset**\n",
    "\n"
   ]
  },
  {
   "cell_type": "code",
   "execution_count": null,
   "metadata": {
    "colab": {
     "base_uri": "https://localhost:8080/",
     "height": 295
    },
    "executionInfo": {
     "elapsed": 3247,
     "status": "ok",
     "timestamp": 1617794724636,
     "user": {
      "displayName": "JONES ARPUTHARAJ",
      "photoUrl": "https://lh3.googleusercontent.com/a-/AOh14Gg8YRWZna9HKlPzzHWkmTbsw_nlK0nBlsLrhYTzPg=s64",
      "userId": "16016493495905896081"
     },
     "user_tz": -330
    },
    "id": "y-Mh8TCnA_Q_",
    "outputId": "3a70d51b-7e11-4737-825d-0a6ce5361dc1"
   },
   "outputs": [
    {
     "data": {
      "image/png": "[encoded data removed]",
      "text/plain": [
       "<Figure size 432x288 with 1 Axes>"
      ]
     },
     "metadata": {
      "needs_background": "light",
      "tags": []
     },
     "output_type": "display_data"
    }
   ],
   "source": [
    "# Plotting the distribution of scores\n",
    "df.plot(x='Hours', y='Scores', style='o' ,c= 'Blue')  \n",
    "plt.title('Hours vs Score')  \n",
    "plt.xlabel('Hours studied')  \n",
    "plt.ylabel('Score')  \n",
    "plt.show()"
   ]
  },
  {
   "cell_type": "markdown",
   "metadata": {
    "id": "VFR-GzvXEl9S"
   },
   "source": [
    "# **Drawing a Regression line for the datas in dataset**"
   ]
  },
  {
   "cell_type": "code",
   "execution_count": null,
   "metadata": {
    "colab": {
     "base_uri": "https://localhost:8080/",
     "height": 296
    },
    "executionInfo": {
     "elapsed": 3236,
     "status": "ok",
     "timestamp": 1617794724667,
     "user": {
      "displayName": "JONES ARPUTHARAJ",
      "photoUrl": "https://lh3.googleusercontent.com/a-/AOh14Gg8YRWZna9HKlPzzHWkmTbsw_nlK0nBlsLrhYTzPg=s64",
      "userId": "16016493495905896081"
     },
     "user_tz": -330
    },
    "id": "ex2tivVvA_RC",
    "outputId": "dd45735a-ffe8-4fac-db21-abeb0275e12d"
   },
   "outputs": [
    {
     "data": {
      "text/plain": [
       "<matplotlib.axes._subplots.AxesSubplot at 0x7f2275363b90>"
      ]
     },
     "execution_count": 26,
     "metadata": {
      "tags": []
     },
     "output_type": "execute_result"
    },
    {
     "data": {
      "image/png": "[encoded data removed]",
      "text/plain": [
       "<Figure size 432x288 with 1 Axes>"
      ]
     },
     "metadata": {
      "needs_background": "light",
      "tags": []
     },
     "output_type": "display_data"
    }
   ],
   "source": [
    "#Plotting the Regressionline\n",
    "sb.regplot(x=df['Hours'],y=df['Scores'] , color='red' )"
   ]
  },
  {
   "cell_type": "markdown",
   "metadata": {
    "id": "aoW3pvOAEuN7"
   },
   "source": [
    "# **`Splitting the data into dependent and independent variables`**"
   ]
  },
  {
   "cell_type": "code",
   "execution_count": null,
   "metadata": {
    "id": "X_IgpiNyA_RF"
   },
   "outputs": [],
   "source": [
    "#storing the x & y values\n",
    "x = df.iloc[:, :-1].values\n",
    "y = df.iloc[:, -1].values"
   ]
  },
  {
   "cell_type": "markdown",
   "metadata": {
    "id": "NCz5ivsEEyd_"
   },
   "source": [
    "\n",
    "# **Splitting the data into train and test splits**\n",
    "> > # **Training - 80% : Testing - 20%**\n",
    "\n"
   ]
  },
  {
   "cell_type": "code",
   "execution_count": null,
   "metadata": {
    "id": "ZBtVej9PA_RH"
   },
   "outputs": [],
   "source": [
    "#To partition the data\n",
    "from sklearn.model_selection import train_test_split \n",
    "\n",
    "#splitting the data into train and test\n",
    "x_train, x_test, y_train, y_test = train_test_split(x, y, test_size=0.2, random_state=0)"
   ]
  },
  {
   "cell_type": "markdown",
   "metadata": {
    "id": "7QQvYBwSFrUe"
   },
   "source": [
    "# **Importing the supervised ML model called the LinearRegression**"
   ]
  },
  {
   "cell_type": "code",
   "execution_count": null,
   "metadata": {
    "colab": {
     "base_uri": "https://localhost:8080/"
    },
    "executionInfo": {
     "elapsed": 3540,
     "status": "ok",
     "timestamp": 1617794449998,
     "user": {
      "displayName": "JONES ARPUTHARAJ",
      "photoUrl": "https://lh3.googleusercontent.com/a-/AOh14Gg8YRWZna9HKlPzzHWkmTbsw_nlK0nBlsLrhYTzPg=s64",
      "userId": "16016493495905896081"
     },
     "user_tz": -330
    },
    "id": "mBMm3JoeA_RJ",
    "outputId": "eb5ab0c6-303c-4b74-ea6e-3eade72782da"
   },
   "outputs": [
    {
     "name": "stdout",
     "output_type": "stream",
     "text": [
      "Training complete.\n"
     ]
    }
   ],
   "source": [
    "#importing libraries for linear regression \n",
    "from sklearn.linear_model import LinearRegression\n",
    "\n",
    "#Make an instance for the model  \n",
    "model = LinearRegression()  \n",
    "\n",
    "#Fitting the values for x & y\n",
    "model.fit(x_train, y_train)\n",
    "print(\"Training complete.\")"
   ]
  },
  {
   "cell_type": "code",
   "execution_count": null,
   "metadata": {
    "colab": {
     "base_uri": "https://localhost:8080/"
    },
    "executionInfo": {
     "elapsed": 3522,
     "status": "ok",
     "timestamp": 1617794450004,
     "user": {
      "displayName": "JONES ARPUTHARAJ",
      "photoUrl": "https://lh3.googleusercontent.com/a-/AOh14Gg8YRWZna9HKlPzzHWkmTbsw_nlK0nBlsLrhYTzPg=s64",
      "userId": "16016493495905896081"
     },
     "user_tz": -330
    },
    "id": "AqKsLI36A_RN",
    "outputId": "1f8fed25-f712-4c9f-e7cf-545accf4a482"
   },
   "outputs": [
    {
     "data": {
      "text/plain": [
       "array([16.88414476, 33.73226078, 75.357018  , 26.79480124, 60.49103328])"
      ]
     },
     "execution_count": 12,
     "metadata": {
      "tags": []
     },
     "output_type": "execute_result"
    }
   ],
   "source": [
    "# Predicting the scores\n",
    "y_pred = model.predict(x_test)\n",
    "y_pred"
   ]
  },
  {
   "cell_type": "markdown",
   "metadata": {
    "id": "qlwpHKzFFy4H"
   },
   "source": [
    "# **Analysing how better the data is predicted**"
   ]
  },
  {
   "cell_type": "code",
   "execution_count": null,
   "metadata": {
    "colab": {
     "base_uri": "https://localhost:8080/",
     "height": 204
    },
    "executionInfo": {
     "elapsed": 3637,
     "status": "ok",
     "timestamp": 1617794450148,
     "user": {
      "displayName": "JONES ARPUTHARAJ",
      "photoUrl": "https://lh3.googleusercontent.com/a-/AOh14Gg8YRWZna9HKlPzzHWkmTbsw_nlK0nBlsLrhYTzPg=s64",
      "userId": "16016493495905896081"
     },
     "user_tz": -330
    },
    "id": "WxEDwitWA_RP",
    "outputId": "4743487f-5caf-4edb-d47b-762a350daa7c"
   },
   "outputs": [
    {
     "data": {
      "text/html": [
       "<div>\n",
       "<style scoped>\n",
       "    .dataframe tbody tr th:only-of-type {\n",
       "        vertical-align: middle;\n",
       "    }\n",
       "\n",
       "    .dataframe tbody tr th {\n",
       "        vertical-align: top;\n",
       "    }\n",
       "\n",
       "    .dataframe thead th {\n",
       "        text-align: right;\n",
       "    }\n",
       "</style>\n",
       "<table border=\"1\" class=\"dataframe\">\n",
       "  <thead>\n",
       "    <tr style=\"text-align: right;\">\n",
       "      <th></th>\n",
       "      <th>Actual</th>\n",
       "      <th>Predicted</th>\n",
       "    </tr>\n",
       "  </thead>\n",
       "  <tbody>\n",
       "    <tr>\n",
       "      <th>0</th>\n",
       "      <td>20</td>\n",
       "      <td>16.884145</td>\n",
       "    </tr>\n",
       "    <tr>\n",
       "      <th>1</th>\n",
       "      <td>27</td>\n",
       "      <td>33.732261</td>\n",
       "    </tr>\n",
       "    <tr>\n",
       "      <th>2</th>\n",
       "      <td>69</td>\n",
       "      <td>75.357018</td>\n",
       "    </tr>\n",
       "    <tr>\n",
       "      <th>3</th>\n",
       "      <td>30</td>\n",
       "      <td>26.794801</td>\n",
       "    </tr>\n",
       "    <tr>\n",
       "      <th>4</th>\n",
       "      <td>62</td>\n",
       "      <td>60.491033</td>\n",
       "    </tr>\n",
       "  </tbody>\n",
       "</table>\n",
       "</div>"
      ],
      "text/plain": [
       "   Actual  Predicted\n",
       "0      20  16.884145\n",
       "1      27  33.732261\n",
       "2      69  75.357018\n",
       "3      30  26.794801\n",
       "4      62  60.491033"
      ]
     },
     "execution_count": 13,
     "metadata": {
      "tags": []
     },
     "output_type": "execute_result"
    }
   ],
   "source": [
    "# Comparing Actual vs Predicted\n",
    "df = ts1.DataFrame({'Actual': y_test, 'Predicted': y_pred})  \n",
    "df"
   ]
  },
  {
   "cell_type": "markdown",
   "metadata": {
    "id": "Q-uuRK9tGAEw"
   },
   "source": [
    "# **Given Task : What will be predicted score if a student studies for 9.25 hrs/day?**"
   ]
  },
  {
   "cell_type": "code",
   "execution_count": null,
   "metadata": {
    "colab": {
     "base_uri": "https://localhost:8080/"
    },
    "executionInfo": {
     "elapsed": 1885,
     "status": "ok",
     "timestamp": 1617795024512,
     "user": {
      "displayName": "JONES ARPUTHARAJ",
      "photoUrl": "https://lh3.googleusercontent.com/a-/AOh14Gg8YRWZna9HKlPzzHWkmTbsw_nlK0nBlsLrhYTzPg=s64",
      "userId": "16016493495905896081"
     },
     "user_tz": -330
    },
    "id": "uvWGCU6BA_RR",
    "outputId": "4b0fc652-74ba-4275-c0fe-78cd3b9e98dd"
   },
   "outputs": [
    {
     "name": "stdout",
     "output_type": "stream",
     "text": [
      "No of Hours = [[9.25]]\n",
      "Predicted Score = 93.69173248737539\n"
     ]
    }
   ],
   "source": [
    "# What will be predicted score if a student studies for 9.25 hrs/ day?\n",
    "hours = [[9.25]]\n",
    "own_pred = model.predict(hours)\n",
    "print(\"No of Hours = {}\".format(hours))\n",
    "print(\"Predicted Score = {}\".format(own_pred[0]))"
   ]
  },
  {
   "cell_type": "markdown",
   "metadata": {
    "id": "ZiYM-hLBGRZj"
   },
   "source": [
    "# **Evaluate the model**"
   ]
  },
  {
   "cell_type": "code",
   "execution_count": null,
   "metadata": {
    "id": "wWNNYHUhA_RT"
   },
   "outputs": [],
   "source": [
    "# for calculating metrics\n",
    "from sklearn  import metrics"
   ]
  },
  {
   "cell_type": "code",
   "execution_count": null,
   "metadata": {
    "colab": {
     "base_uri": "https://localhost:8080/"
    },
    "executionInfo": {
     "elapsed": 3588,
     "status": "ok",
     "timestamp": 1617794450167,
     "user": {
      "displayName": "JONES ARPUTHARAJ",
      "photoUrl": "https://lh3.googleusercontent.com/a-/AOh14Gg8YRWZna9HKlPzzHWkmTbsw_nlK0nBlsLrhYTzPg=s64",
      "userId": "16016493495905896081"
     },
     "user_tz": -330
    },
    "id": "0QuR1jcHA_RV",
    "outputId": "baea0f0a-0f6e-4f41-8748-215a672c8e09"
   },
   "outputs": [
    {
     "name": "stdout",
     "output_type": "stream",
     "text": [
      "Mean Absolute Error : 4.183859899002982\n"
     ]
    }
   ],
   "source": [
    "print('Mean Absolute Error :',metrics.mean_absolute_error(y_test, y_pred))"
   ]
  },
  {
   "cell_type": "code",
   "execution_count": null,
   "metadata": {
    "colab": {
     "base_uri": "https://localhost:8080/"
    },
    "executionInfo": {
     "elapsed": 3565,
     "status": "ok",
     "timestamp": 1617794450171,
     "user": {
      "displayName": "JONES ARPUTHARAJ",
      "photoUrl": "https://lh3.googleusercontent.com/a-/AOh14Gg8YRWZna9HKlPzzHWkmTbsw_nlK0nBlsLrhYTzPg=s64",
      "userId": "16016493495905896081"
     },
     "user_tz": -330
    },
    "id": "dW3SEr9LA_RX",
    "outputId": "ee7e67cd-1911-4656-8820-47a60ae501d2"
   },
   "outputs": [
    {
     "name": "stdout",
     "output_type": "stream",
     "text": [
      "Mean Squared Error : 21.598769307217456\n"
     ]
    }
   ],
   "source": [
    "print('Mean Squared Error :',metrics.mean_squared_error(y_test, y_pred))"
   ]
  },
  {
   "cell_type": "code",
   "execution_count": null,
   "metadata": {
    "colab": {
     "base_uri": "https://localhost:8080/"
    },
    "executionInfo": {
     "elapsed": 3545,
     "status": "ok",
     "timestamp": 1617794450176,
     "user": {
      "displayName": "JONES ARPUTHARAJ",
      "photoUrl": "https://lh3.googleusercontent.com/a-/AOh14Gg8YRWZna9HKlPzzHWkmTbsw_nlK0nBlsLrhYTzPg=s64",
      "userId": "16016493495905896081"
     },
     "user_tz": -330
    },
    "id": "66J8H6d5A_RZ",
    "outputId": "1311ac90-06b4-443e-c022-b36024a1b0dd"
   },
   "outputs": [
    {
     "name": "stdout",
     "output_type": "stream",
     "text": [
      "RMSE : 4.647447612100373\n"
     ]
    }
   ],
   "source": [
    "print('RMSE :',np.sqrt(metrics.mean_squared_error(y_test, y_pred)))"
   ]
  }
 ],
 "metadata": {
  "colab": {
   "name": "GRIP-TSF-1(Supervised ML).ipynb",
   "provenance": []
  },
  "kernelspec": {
   "display_name": "Python 3",
   "language": "python",
   "name": "python3"
  },
  "language_info": {
   "codemirror_mode": {
    "name": "ipython",
    "version": 3
   },
   "file_extension": ".py",
   "mimetype": "text/x-python",
   "name": "python",
   "nbconvert_exporter": "python",
   "pygments_lexer": "ipython3",
   "version": "3.8.5"
  }
 },
 "nbformat": 4,
 "nbformat_minor": 1
}
